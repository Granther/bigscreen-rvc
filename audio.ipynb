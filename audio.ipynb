{
 "cells": [
  {
   "cell_type": "code",
   "execution_count": 1,
   "id": "69f87538-6cc4-4df1-aebb-4a6f19371e86",
   "metadata": {},
   "outputs": [],
   "source": [
    "from infer_rvc_python import BaseLoader\n",
    "\n",
    "converter = BaseLoader(only_cpu=False, hubert_path=None, rmvpe_path=None)"
   ]
  },
  {
   "cell_type": "code",
   "execution_count": 2,
   "id": "c6bfa79e-c905-4da0-9f63-c05533957009",
   "metadata": {},
   "outputs": [
    {
     "name": "stderr",
     "output_type": "stream",
     "text": [
      "[INFO] >> No supported N-card found, using CPU for inference\n",
      "[INFO] >> Config: Device is cpu, half precision is False\n"
     ]
    },
    {
     "data": {
      "text/plain": [
       "'CONFIGURATION APPLIED FOR drake: ./Drake_RVC/model.pth'"
      ]
     },
     "execution_count": 2,
     "metadata": {},
     "output_type": "execute_result"
    }
   ],
   "source": [
    "converter.apply_conf(\n",
    "        tag=\"drake\",\n",
    "        file_model=\"./Drake_RVC/model.pth\",\n",
    "        pitch_algo=\"rmvpe+\",\n",
    "        pitch_lvl=0,\n",
    "        file_index=\"./Drake_RVC/model.index\",\n",
    "        index_influence=0.66,\n",
    "        respiration_median_filtering=3,\n",
    "        envelope_ratio=0.25,\n",
    "        consonant_breath_protection=0.33\n",
    "    )"
   ]
  },
  {
   "cell_type": "code",
   "execution_count": 3,
   "id": "b77cd0f8-ac7d-48ad-ab27-c133640990b7",
   "metadata": {},
   "outputs": [
    {
     "name": "stderr",
     "output_type": "stream",
     "text": [
      "[INFO] >> Parallel workers: 1\n",
      "Progress:   0%|                                                                                                       | 0/1 [00:00<?, ?it/s][INFO] >> Loading ./Drake_RVC/model.pth\n",
      "[INFO] >> Loading vocal pitch estimator model\n"
     ]
    },
    {
     "name": "stdout",
     "output_type": "stream",
     "text": [
      "gin_channels: 256 self.spk_embed_dim: 109\n"
     ]
    },
    {
     "name": "stderr",
     "output_type": "stream",
     "text": [
      "[ERROR] >> Error opening 'audio_edited.mp3': Error : MPEG-1/2/2.5 only supports sample rates of 8000, 11025, 12000, 16000, 22050, 24000, 32000, 44100, and 48000.\n",
      "[ERROR] >> Error saving file, trying with WAV format\n",
      "[INFO] >> audio_edited.wav\n",
      "Progress: 100%|███████████████████████████████████████████████████████████████████████████████████████████████| 1/1 [00:14<00:00, 14.79s/it]\n"
     ]
    }
   ],
   "source": [
    "a = \"audio.mp3\"\n",
    "p = \"drake\"\n",
    "\n",
    "result = converter(\n",
    "    a,\n",
    "    p,\n",
    "    overwrite=False,\n",
    "    # parallel_workers=4\n",
    ")"
   ]
  },
  {
   "cell_type": "code",
   "execution_count": null,
   "id": "84840e4d-a2eb-4825-ab09-7a2991b5915b",
   "metadata": {},
   "outputs": [],
   "source": []
  }
 ],
 "metadata": {
  "kernelspec": {
   "display_name": "Python 3 (ipykernel)",
   "language": "python",
   "name": "python3"
  },
  "language_info": {
   "codemirror_mode": {
    "name": "ipython",
    "version": 3
   },
   "file_extension": ".py",
   "mimetype": "text/x-python",
   "name": "python",
   "nbconvert_exporter": "python",
   "pygments_lexer": "ipython3",
   "version": "3.11.7"
  }
 },
 "nbformat": 4,
 "nbformat_minor": 5
}
